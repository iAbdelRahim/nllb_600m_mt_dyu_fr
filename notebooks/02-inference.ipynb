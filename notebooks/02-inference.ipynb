{
 "cells": [
  {
   "cell_type": "markdown",
   "metadata": {},
   "source": [
    "## LOAD THE MODEL AFTER TRAINING AND USE IT FOR INFERENCE"
   ]
  },
  {
   "cell_type": "code",
   "execution_count": null,
   "metadata": {},
   "outputs": [],
   "source": [
    "# libraries to import\n",
    "from transformers import AutoTokenizer, AutoModelForSeq2SeqLM, NllbTokenizerFast"
   ]
  },
  {
   "cell_type": "code",
   "execution_count": null,
   "metadata": {},
   "outputs": [],
   "source": [
    "CHARS_TO_REMOVE_REGEX = '[!\"&\\(\\),-./:;=?+.\\n\\[\\]]'\n",
    "SRC_LANG = \"dyu\"\n",
    "TRG_LANG = \"fr\"\n",
    "DIR = 'machine-translation\\saved_model'\n",
    "MODEL_KWARGS = {\n",
    "    \"do_sample\":True,\n",
    "    \"max_new_tokens\": 40,\n",
    "    \"top_k\":30,\n",
    "    \"top_p\":0.95,\n",
    "    \"temperature\":1.0\n",
    "}"
   ]
  },
  {
   "cell_type": "code",
   "execution_count": null,
   "metadata": {},
   "outputs": [],
   "source": [
    "# # Input and reference translations from validation set\n",
    "# [{'dyu': 'i tɔgɔ bi cogodɔ', 'fr': 'tu portes un nom de fantaisie'},\n",
    "#  {'dyu': 'puɛn saba fɔlɔ', 'fr': 'trois points d’avance'},\n",
    "#  {'dyu': 'tile bena', 'fr': 'le soleil s’est couché'},\n",
    "#  {'dyu': 'cogoya kelen', 'fr': 'mêmes mouvements'},\n",
    "#  {'dyu': 'n ma daraka dun ban', 'fr': 'je n’ai pas encore déjeuné'},\n",
    "#  {'dyu': \"a y'a dabla ka yɛlɛ n na\", 'fr': 'arrêtez de vous moquer de moi'},\n",
    "#  {'dyu': 'nne ye amɛrikɛn ye', 'fr': 'je suis américain'},\n",
    "#  {'dyu': 'i ni cɛ depite cɛ', 'fr': 'merci  monsieur le député'},\n",
    "#  {'dyu': 'jan ma a facɛ lon', 'fr': 'jean n’a pas connu son père'},\n",
    "#  {'dyu': 'an kaɲi ka don a kɔnɔ', 'fr': 'il faudra rentrer dedans'}]"
   ]
  },
  {
   "cell_type": "code",
   "execution_count": null,
   "metadata": {},
   "outputs": [],
   "source": [
    "# Remember to add model command prefix\n",
    "text = f\"{PREFIX}i tɔgɔ bi cogodɔ\""
   ]
  },
  {
   "cell_type": "code",
   "execution_count": null,
   "metadata": {},
   "outputs": [],
   "source": [
    "from transformers import AutoTokenizer\n",
    "from transformers import AutoModelForSeq2SeqLM\n",
    "\n",
    "tokenizer = AutoTokenizer.from_pretrained(DIR)\n",
    "loaded_model = AutoModelForSeq2SeqLM.from_pretrained(DIR)"
   ]
  },
  {
   "cell_type": "code",
   "execution_count": null,
   "metadata": {},
   "outputs": [],
   "source": [
    "# Get translation\n",
    "inputs = tokenizer(test, return_tensors=\"pt\").input_ids\n",
    "outputs = loaded_model.generate(inputs, **MODEL_KWARGS)\n",
    "translation = tokenizer.decode(outputs[0], skip_special_tokens=True)\n",
    "translation"
   ]
  }
 ],
 "metadata": {
  "language_info": {
   "name": "python"
  }
 },
 "nbformat": 4,
 "nbformat_minor": 2
}
